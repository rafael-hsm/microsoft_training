{
 "cells": [
  {
   "attachments": {},
   "cell_type": "markdown",
   "metadata": {},
   "source": [
    "# Create an Azure Machine Learning workspace\n",
    "https://learn.microsoft.com/en-us/training/modules/train-evaluate-deep-learn-models/3-exercise-train-deep-neural-network"
   ]
  },
  {
   "attachments": {},
   "cell_type": "markdown",
   "metadata": {},
   "source": [
    "If you don't already have an Azure Machine Learning workspace in your Azure subscription, follow these steps to create one:\n",
    "\n",
    "Sign into the Azure portal using the Microsoft account associated with your Azure subscription.\n",
    "\n",
    "On the Azure Home page, under Azure services, select Create a resource. The Create a resource pane appears.\n",
    "\n",
    "In the Search services and marketplace search box, search for and select Machine Learning. The Machine Learning pane appears.\n",
    "\n",
    "Select Create. The Machine learning pane appears.\n",
    "\n",
    "On the Basics tab, Enter the following values to each setting.\n",
    "\n",
    "Setting\tValue\n",
    "Project Details\t\n",
    "Subscription\tSelect the Azure subscription you'd like to use for this exercise.\n",
    "Resource group\tSelect the Create new link, and name the new resource group with a unique name, and select OK.\n",
    "Workspace details\t\n",
    "Workspace name\tEnter a unique name for your app. For example, you could use <yourname>;machinelearn.\n",
    "Region\tFrom the dropdown list, select any available location.\n",
    "Accept the remaining defaults, and select Review + create.\n",
    "\n",
    "After validation passes, select Create.\n",
    "\n",
    "Wait for your workspace resource to be created as it can take a few minutes.\n",
    "\n",
    "When deployment completes, select Go to resource. Your Machine learning pane appears.\n",
    "\n",
    "Select Launch studio, or go to https://ml.azure.com, and sign in using your Microsoft account. The Microsoft Azure Machine Learning studio page appears.\n",
    "\n",
    "In Azure Machine Learning studio, toggle the ☰ icon at the top left to expane/collapse its menu pane. You can use these options to manage the resources in your workspace.\n",
    "\n",
    "Create a compute instance\n",
    "To run the notebook used in this exercise, you will need a compute instance in your Azure Machine Learning workspace.\n",
    "\n",
    "In the left menu pane, under Manage, select Compute. The Compute pane appears.\n",
    "\n",
    "On the Compute Instances tab, if you already have a compute instance, start it; otherwise, create a new compute instance by selecting New. The Create compute instance pane appears.\n",
    "\n",
    "Enter the following values for each setting:\n",
    "\n",
    "Compute name: enter a unique name\n",
    "Virtual machine type: CPU\n",
    "Virtual machine size: Select from recommended options: Standard_DS11_v2\n",
    "Select Create. The Compute pane reappears with your Compute instance listed.\n",
    "\n",
    "Wait for the compute instance to start as this may take a couple of minutes. Under the State column, your Compute instance will change to Running."
   ]
  },
  {
   "cell_type": "code",
   "execution_count": null,
   "metadata": {},
   "outputs": [],
   "source": []
  }
 ],
 "metadata": {
  "language_info": {
   "name": "python"
  },
  "orig_nbformat": 4
 },
 "nbformat": 4,
 "nbformat_minor": 2
}
